{
  "cells": [
    {
      "cell_type": "markdown",
      "metadata": {
        "id": "view-in-github",
        "colab_type": "text"
      },
      "source": [
        "<a href=\"https://colab.research.google.com/github/ganeshagrahari/Pytorch-Framework/blob/main/NN_Module.ipynb\" target=\"_parent\"><img src=\"https://colab.research.google.com/assets/colab-badge.svg\" alt=\"Open In Colab\"/></a>"
      ]
    },
    {
      "cell_type": "markdown",
      "metadata": {
        "id": "ihXVUAZoV2kN"
      },
      "source": [
        "# Plan of action"
      ]
    },
    {
      "cell_type": "markdown",
      "metadata": {
        "id": "80pe3SssV-c8"
      },
      "source": [
        "## 1. Revison\n",
        "## 2. Improvemnets\n",
        "## 3. The nn Module\n",
        "## 4. The torch.optim module\n"
      ]
    },
    {
      "cell_type": "markdown",
      "metadata": {
        "id": "VxKMvxFkWXlP"
      },
      "source": [
        "## Improvements:-\n",
        "### 1. Building the neural network using nn module.\n",
        "### 2. Using built-in activation function\n",
        "### 3. Using built-in loss function.\n",
        "###4 . Using built-in optimizer\n"
      ]
    },
    {
      "cell_type": "code",
      "execution_count": 50,
      "metadata": {
        "id": "8XoOHafhWaTU"
      },
      "outputs": [],
      "source": [
        "# Creating model class\n",
        "import torch\n",
        "import torch.nn as nn\n",
        "\n",
        "class Model(nn.Module):     # your class should inherit nn.Module that you can use properties of nn Modules!\n",
        "        def __init__(self,num_features):\n",
        "          super().__init__()\n",
        "          self.linear = nn.Linear(num_features,1)\n",
        "          self.sigmoid = nn.Sigmoid()\n",
        "\n",
        "        def forward(self,features):\n",
        "          out = self.linear(features) #z=wx+b z = out\n",
        "          out = self.sigmoid(out) # we got y_pred from here\n",
        "\n",
        "          return out\n",
        "\n",
        "\n"
      ]
    },
    {
      "cell_type": "code",
      "execution_count": 51,
      "metadata": {
        "id": "51D6KT9kaEgG",
        "colab": {
          "base_uri": "https://localhost:8080/"
        },
        "outputId": "cf8e1016-738d-44f7-e37c-91c87e86ba9b"
      },
      "outputs": [
        {
          "output_type": "execute_result",
          "data": {
            "text/plain": [
              "tensor([[0.5113],\n",
              "        [0.5462],\n",
              "        [0.4399],\n",
              "        [0.4351],\n",
              "        [0.4976],\n",
              "        [0.4747],\n",
              "        [0.4868],\n",
              "        [0.5041],\n",
              "        [0.5783],\n",
              "        [0.5821]], grad_fn=<SigmoidBackward0>)"
            ]
          },
          "metadata": {},
          "execution_count": 51
        }
      ],
      "source": [
        "# Creating a dataset\n",
        "features = torch.rand(10,5)\n",
        "\n",
        "#Creating a model\n",
        "model = Model(features.shape[1])\n",
        "\n",
        "#call the  forward pass\n",
        "model(features)"
      ]
    },
    {
      "cell_type": "code",
      "source": [
        "# show model weights and bias\n",
        "#model.linear.weight\n",
        "model.linear.bias"
      ],
      "metadata": {
        "colab": {
          "base_uri": "https://localhost:8080/"
        },
        "id": "WZqxX26YcvI1",
        "outputId": "aa918e7d-084d-4a50-c8f1-f4c73c424548"
      },
      "execution_count": 52,
      "outputs": [
        {
          "output_type": "execute_result",
          "data": {
            "text/plain": [
              "Parameter containing:\n",
              "tensor([0.1618], requires_grad=True)"
            ]
          },
          "metadata": {},
          "execution_count": 52
        }
      ]
    },
    {
      "cell_type": "code",
      "source": [
        "!pip install torchinfo"
      ],
      "metadata": {
        "colab": {
          "base_uri": "https://localhost:8080/"
        },
        "id": "6YrgsB7vdE-R",
        "outputId": "54c88744-81d1-4ca8-dff0-917ca31407c0"
      },
      "execution_count": 53,
      "outputs": [
        {
          "output_type": "stream",
          "name": "stdout",
          "text": [
            "Requirement already satisfied: torchinfo in /usr/local/lib/python3.11/dist-packages (1.8.0)\n"
          ]
        }
      ]
    },
    {
      "cell_type": "code",
      "source": [
        "from torchinfo import summary\n",
        "summary(model,input_size=(10,5))"
      ],
      "metadata": {
        "colab": {
          "base_uri": "https://localhost:8080/"
        },
        "id": "60CwSCfEdH0l",
        "outputId": "f0212c39-6fd9-4918-b97d-5bd262ffd9af"
      },
      "execution_count": 54,
      "outputs": [
        {
          "output_type": "execute_result",
          "data": {
            "text/plain": [
              "==========================================================================================\n",
              "Layer (type:depth-idx)                   Output Shape              Param #\n",
              "==========================================================================================\n",
              "Model                                    [10, 1]                   --\n",
              "├─Linear: 1-1                            [10, 1]                   6\n",
              "├─Sigmoid: 1-2                           [10, 1]                   --\n",
              "==========================================================================================\n",
              "Total params: 6\n",
              "Trainable params: 6\n",
              "Non-trainable params: 0\n",
              "Total mult-adds (Units.MEGABYTES): 0.00\n",
              "==========================================================================================\n",
              "Input size (MB): 0.00\n",
              "Forward/backward pass size (MB): 0.00\n",
              "Params size (MB): 0.00\n",
              "Estimated Total Size (MB): 0.00\n",
              "=========================================================================================="
            ]
          },
          "metadata": {},
          "execution_count": 54
        }
      ]
    },
    {
      "cell_type": "code",
      "source": [
        "#  craeting nn with a hidden layer\n",
        "# Creating model class\n",
        "import torch\n",
        "import torch.nn as nn\n",
        "\n",
        "class Model(nn.Module):     # your class should inherit nn.Module that you can use properties of nn Modules!\n",
        "        def __init__(self,num_features):\n",
        "          super().__init__()\n",
        "          self.linear1 = nn.Linear(num_features,3)# this is for hidden layer\n",
        "          self.relu = nn.ReLU()\n",
        "\n",
        "          self.linear2 = nn.Linear(3,1)# this is for futher layer\n",
        "          self.sigmoid = nn.Sigmoid()\n",
        "\n",
        "        def forward(self,features):\n",
        "          out = self.linear1(features) #z=wx+b z = out\n",
        "          out = self.relu(out)\n",
        "          out = self.linear2(out)\n",
        "          out = self.sigmoid(out) # we got y_pred from here\n",
        "\n",
        "          return out\n",
        "\n",
        "\n"
      ],
      "metadata": {
        "id": "RKjvFftZdRfn"
      },
      "execution_count": 55,
      "outputs": []
    },
    {
      "cell_type": "code",
      "source": [
        "# Creating a dataset\n",
        "features = torch.rand(10,5)\n",
        "\n",
        "#Creating a model\n",
        "model = Model(features.shape[1])\n",
        "\n",
        "#call the  forward pass\n",
        "model(features)"
      ],
      "metadata": {
        "colab": {
          "base_uri": "https://localhost:8080/"
        },
        "id": "6aCzyacwgDGH",
        "outputId": "de3f8e99-6f0d-42f7-c846-bfa03dae378f"
      },
      "execution_count": 56,
      "outputs": [
        {
          "output_type": "execute_result",
          "data": {
            "text/plain": [
              "tensor([[0.5637],\n",
              "        [0.5708],\n",
              "        [0.5500],\n",
              "        [0.5879],\n",
              "        [0.5635],\n",
              "        [0.5543],\n",
              "        [0.5944],\n",
              "        [0.5816],\n",
              "        [0.5798],\n",
              "        [0.5636]], grad_fn=<SigmoidBackward0>)"
            ]
          },
          "metadata": {},
          "execution_count": 56
        }
      ]
    },
    {
      "cell_type": "code",
      "source": [
        "# show model weights and bias\n",
        "#model.linear.weight\n",
        "model.linear2.weight"
      ],
      "metadata": {
        "colab": {
          "base_uri": "https://localhost:8080/"
        },
        "id": "2G8P5ZArgLiM",
        "outputId": "fedee6c7-a37a-480d-c5bb-ff44e2b1e9d9"
      },
      "execution_count": 57,
      "outputs": [
        {
          "output_type": "execute_result",
          "data": {
            "text/plain": [
              "Parameter containing:\n",
              "tensor([[-0.4214,  0.3408, -0.0942]], requires_grad=True)"
            ]
          },
          "metadata": {},
          "execution_count": 57
        }
      ]
    },
    {
      "cell_type": "code",
      "source": [
        "from torchinfo import summary\n",
        "summary(model,input_size=(10,5))"
      ],
      "metadata": {
        "colab": {
          "base_uri": "https://localhost:8080/"
        },
        "id": "WY9e9G2SgYtF",
        "outputId": "9b60e41d-1dc0-403f-cb4d-b2cadced7097"
      },
      "execution_count": 58,
      "outputs": [
        {
          "output_type": "execute_result",
          "data": {
            "text/plain": [
              "==========================================================================================\n",
              "Layer (type:depth-idx)                   Output Shape              Param #\n",
              "==========================================================================================\n",
              "Model                                    [10, 1]                   --\n",
              "├─Linear: 1-1                            [10, 3]                   18\n",
              "├─ReLU: 1-2                              [10, 3]                   --\n",
              "├─Linear: 1-3                            [10, 1]                   4\n",
              "├─Sigmoid: 1-4                           [10, 1]                   --\n",
              "==========================================================================================\n",
              "Total params: 22\n",
              "Trainable params: 22\n",
              "Non-trainable params: 0\n",
              "Total mult-adds (Units.MEGABYTES): 0.00\n",
              "==========================================================================================\n",
              "Input size (MB): 0.00\n",
              "Forward/backward pass size (MB): 0.00\n",
              "Params size (MB): 0.00\n",
              "Estimated Total Size (MB): 0.00\n",
              "=========================================================================================="
            ]
          },
          "metadata": {},
          "execution_count": 58
        }
      ]
    },
    {
      "cell_type": "code",
      "source": [
        "#sequential containers for forward pass fxn\n",
        "import torch\n",
        "import torch.nn as nn\n",
        "\n",
        "class Model(nn.Module):     # your class should inherit nn.Module that you can use properties of nn Modules!\n",
        "        def __init__(self,num_features):\n",
        "          super().__init__()\n",
        "          self.network  = nn.Sequential(\n",
        "               nn.Linear(num_features,3),# this is for hidden layer\n",
        "               nn.ReLU(),\n",
        "               nn.Linear(3,1),# this is for futher layer\n",
        "               nn.Sigmoid()\n",
        "          )\n",
        "\n",
        "\n",
        "        def forward(self,features):\n",
        "          out = self.network(features)\n",
        "          return out\n",
        "\n",
        "\n",
        "\n",
        "\n",
        "\n"
      ],
      "metadata": {
        "id": "JOzT0slQgnjU"
      },
      "execution_count": 59,
      "outputs": []
    },
    {
      "cell_type": "code",
      "source": [
        "# Creating a dataset\n",
        "features = torch.rand(10,5)\n",
        "\n",
        "#Creating a model\n",
        "model = Model(features.shape[1])\n",
        "\n",
        "#call the  forward pass\n",
        "model(features)"
      ],
      "metadata": {
        "colab": {
          "base_uri": "https://localhost:8080/"
        },
        "id": "bQxiG7H2h3Ho",
        "outputId": "d8da841e-361d-4d48-d19b-1e440f76456f"
      },
      "execution_count": 60,
      "outputs": [
        {
          "output_type": "execute_result",
          "data": {
            "text/plain": [
              "tensor([[0.6194],\n",
              "        [0.5970],\n",
              "        [0.6227],\n",
              "        [0.6173],\n",
              "        [0.6111],\n",
              "        [0.6340],\n",
              "        [0.6157],\n",
              "        [0.6214],\n",
              "        [0.5833],\n",
              "        [0.6084]], grad_fn=<SigmoidBackward0>)"
            ]
          },
          "metadata": {},
          "execution_count": 60
        }
      ]
    }
  ],
  "metadata": {
    "colab": {
      "provenance": [],
      "authorship_tag": "ABX9TyPsC+XOn03HIC+pv2ZIjskD",
      "include_colab_link": true
    },
    "kernelspec": {
      "display_name": "Python 3",
      "name": "python3"
    },
    "language_info": {
      "name": "python"
    }
  },
  "nbformat": 4,
  "nbformat_minor": 0
}
