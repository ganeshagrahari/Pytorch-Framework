{
  "nbformat": 4,
  "nbformat_minor": 0,
  "metadata": {
    "colab": {
      "provenance": [],
      "authorship_tag": "ABX9TyO6G4c9L2/Q5/TqqMWm9I4o",
      "include_colab_link": true
    },
    "kernelspec": {
      "name": "python3",
      "display_name": "Python 3"
    },
    "language_info": {
      "name": "python"
    }
  },
  "cells": [
    {
      "cell_type": "markdown",
      "metadata": {
        "id": "view-in-github",
        "colab_type": "text"
      },
      "source": [
        "<a href=\"https://colab.research.google.com/github/ganeshagrahari/Pytorch-Framework/blob/main/14_LSTM_using_Pytorch.ipynb\" target=\"_parent\"><img src=\"https://colab.research.google.com/assets/colab-badge.svg\" alt=\"Open In Colab\"/></a>"
      ]
    },
    {
      "cell_type": "code",
      "execution_count": 37,
      "metadata": {
        "colab": {
          "base_uri": "https://localhost:8080/"
        },
        "id": "vyrJmnQ3MdN7",
        "outputId": "f5e6a871-fb4d-41ec-eedb-0f160caeb343"
      },
      "outputs": [
        {
          "output_type": "stream",
          "name": "stdout",
          "text": [
            "Requirement already satisfied: nltk in /usr/local/lib/python3.11/dist-packages (3.9.1)\n",
            "Requirement already satisfied: click in /usr/local/lib/python3.11/dist-packages (from nltk) (8.1.8)\n",
            "Requirement already satisfied: joblib in /usr/local/lib/python3.11/dist-packages (from nltk) (1.4.2)\n",
            "Requirement already satisfied: regex>=2021.8.3 in /usr/local/lib/python3.11/dist-packages (from nltk) (2024.11.6)\n",
            "Requirement already satisfied: tqdm in /usr/local/lib/python3.11/dist-packages (from nltk) (4.67.1)\n"
          ]
        }
      ],
      "source": [
        "!pip install nltk"
      ]
    },
    {
      "cell_type": "code",
      "source": [
        "import torch\n",
        "import torch.nn as nn\n",
        "import torch.optim as optim\n",
        "import numpy as np\n",
        "from collections import Counter\n",
        "from torch.utils.data import Dataset, DataLoader\n",
        "from nltk.tokenize import word_tokenize\n",
        "import nltk"
      ],
      "metadata": {
        "id": "XS0qBPwdMlZ6"
      },
      "execution_count": 38,
      "outputs": []
    },
    {
      "cell_type": "code",
      "source": [
        "document = \"\"\"About the Program\n",
        "What is the course fee for  Data Science Mentorship Program (DSMP 2023)\n",
        "The course follows a monthly subscription model where you have to make monthly payments of Rs 799/month.\n",
        "What is the total duration of the course?\n",
        "The total duration of the course is 7 months. So the total course fee becomes 799*7 = Rs 5600(approx.)\n",
        "What is the syllabus of the mentorship program?\n",
        "We will be covering the following modules:\n",
        "Python Fundamentals\n",
        "Python libraries for Data Science\n",
        "Data Analysis\n",
        "SQL for Data Science\n",
        "Maths for Machine Learning\n",
        "ML Algorithms\n",
        "Practical ML\n",
        "MLOPs\n",
        "Case studies\n",
        "You can check the detailed syllabus here - https://learnwith.campusx.in/courses/CampusX-Data-Science-Mentorship-Program-637339afe4b0615a1bbed390\n",
        "Will Deep Learning and NLP be a part of this program?\n",
        "No, NLP and Deep Learning both are not a part of this program’s curriculum.\n",
        "What if I miss a live session? Will I get a recording of the session?\n",
        "Yes all our sessions are recorded, so even if you miss a session you can go back and watch the recording.\n",
        "Where can I find the class schedule?\n",
        "Checkout this google sheet to see month by month time table of the course - https://docs.google.com/spreadsheets/d/16OoTax_A6ORAeCg4emgexhqqPv3noQPYKU7RJ6ArOzk/edit?usp=sharing.\n",
        "What is the time duration of all the live sessions?\n",
        "Roughly, all the sessions last 2 hours.\n",
        "What is the language spoken by the instructor during the sessions?\n",
        "Hinglish\n",
        "How will I be informed about the upcoming class?\n",
        "You will get a mail from our side before every paid session once you become a paid user.\n",
        "Can I do this course if I am from a non-tech background?\n",
        "Yes, absolutely.\n",
        "I am late, can I join the program in the middle?\n",
        "Absolutely, you can join the program anytime.\n",
        "If I join/pay in the middle, will I be able to see all the past lectures?\n",
        "Yes, once you make the payment you will be able to see all the past content in your dashboard.\n",
        "Where do I have to submit the task?\n",
        "You don’t have to submit the task. We will provide you with the solutions, you have to self evaluate the task yourself.\n",
        "Will we do case studies in the program?\n",
        "Yes.\n",
        "Where can we contact you?\n",
        "You can mail us at nitish.campusx@gmail.com\n",
        "Payment/Registration related questions\n",
        "Where do we have to make our payments? Your YouTube channel or website?\n",
        "You have to make all your monthly payments on our website. Here is the link for our website - https://learnwith.campusx.in/\n",
        "Can we pay the entire amount of Rs 5600 all at once?\n",
        "Unfortunately no, the program follows a monthly subscription model.\n",
        "What is the validity of monthly subscription? Suppose if I pay on 15th Jan, then do I have to pay again on 1st Feb or 15th Feb\n",
        "15th Feb. The validity period is 30 days from the day you make the payment. So essentially you can join anytime you don’t have to wait for a month to end.\n",
        "What if I don’t like the course after making the payment. What is the refund policy?\n",
        "You get a 7 days refund period from the day you have made the payment.\n",
        "I am living outside India and I am not able to make the payment on the website, what should I do?\n",
        "You have to contact us by sending a mail at nitish.campusx@gmail.com\n",
        "Post registration queries\n",
        "Till when can I view the paid videos on the website?\n",
        "This one is tricky, so read carefully. You can watch the videos till your subscription is valid. Suppose you have purchased subscription on 21st Jan, you will be able to watch all the past paid sessions in the period of 21st Jan to 20th Feb. But after 21st Feb you will have to purchase the subscription again.\n",
        "But once the course is over and you have paid us Rs 5600(or 7 installments of Rs 799) you will be able to watch the paid sessions till Aug 2024.\n",
        "Why lifetime validity is not provided?\n",
        "Because of the low course fee.\n",
        "Where can I reach out in case of a doubt after the session?\n",
        "You will have to fill a google form provided in your dashboard and our team will contact you for a 1 on 1 doubt clearance session\n",
        "If I join the program late, can I still ask past week doubts?\n",
        "Yes, just select past week doubt in the doubt clearance google form.\n",
        "I am living outside India and I am not able to make the payment on the website, what should I do?\n",
        "You have to contact us by sending a mail at nitish.campusx@gmai.com\n",
        "Certificate and Placement Assistance related queries\n",
        "What is the criteria to get the certificate?\n",
        "There are 2 criterias:\n",
        "You have to pay the entire fee of Rs 5600\n",
        "You have to attempt all the course assessments.\n",
        "I am joining late. How can I pay payment of the earlier months?\n",
        "You will get a link to pay fee of earlier months in your dashboard once you pay for the current month.\n",
        "I have read that Placement assistance is a part of this program. What comes under Placement assistance?\n",
        "This is to clarify that Placement assistance does not mean Placement guarantee. So we dont guarantee you any jobs or for that matter even interview calls. So if you are planning to join this course just for placements, I am afraid you will be disappointed. Here is what comes under placement assistance\n",
        "Portfolio Building sessions\n",
        "Soft skill sessions\n",
        "Sessions with industry mentors\n",
        "Discussion on Job hunting strategies\n",
        "\"\"\"\n"
      ],
      "metadata": {
        "id": "C6HHnt7FNDci"
      },
      "execution_count": 39,
      "outputs": []
    },
    {
      "cell_type": "code",
      "source": [
        "# Tokenization\n",
        "nltk.download('punkt')\n",
        "nltk.download('punkt_tab')"
      ],
      "metadata": {
        "colab": {
          "base_uri": "https://localhost:8080/"
        },
        "id": "YY5xmuRANSCL",
        "outputId": "8eee39d0-12ac-4694-fc0a-c5c5f730cb0b"
      },
      "execution_count": 40,
      "outputs": [
        {
          "output_type": "stream",
          "name": "stderr",
          "text": [
            "[nltk_data] Downloading package punkt to /root/nltk_data...\n",
            "[nltk_data]   Package punkt is already up-to-date!\n",
            "[nltk_data] Downloading package punkt_tab to /root/nltk_data...\n",
            "[nltk_data]   Package punkt_tab is already up-to-date!\n"
          ]
        },
        {
          "output_type": "execute_result",
          "data": {
            "text/plain": [
              "True"
            ]
          },
          "metadata": {},
          "execution_count": 40
        }
      ]
    },
    {
      "cell_type": "code",
      "source": [
        "#tokenize\n",
        "tokens = word_tokenize(document.lower())"
      ],
      "metadata": {
        "id": "-tFivP73Nfjp"
      },
      "execution_count": 41,
      "outputs": []
    },
    {
      "cell_type": "code",
      "source": [
        "#build vocab\n",
        "vocab = {'<unk>' : 0}\n",
        "\n",
        "for token in Counter(tokens).keys():\n",
        "  if token not in vocab:\n",
        "    vocab[token] = len(vocab)\n",
        "\n",
        "len(vocab)"
      ],
      "metadata": {
        "colab": {
          "base_uri": "https://localhost:8080/"
        },
        "id": "iKdo-DG-Noyp",
        "outputId": "c463ab2a-4a22-41b5-e79d-77d291f66fd6"
      },
      "execution_count": 42,
      "outputs": [
        {
          "output_type": "execute_result",
          "data": {
            "text/plain": [
              "289"
            ]
          },
          "metadata": {},
          "execution_count": 42
        }
      ]
    },
    {
      "cell_type": "code",
      "source": [
        "#extract sentences from data\n",
        "input_sentences = document.split('\\n')"
      ],
      "metadata": {
        "id": "eh3_481tOBQO"
      },
      "execution_count": 43,
      "outputs": []
    },
    {
      "cell_type": "code",
      "source": [
        "def text_to_indices(sentence,vocab):\n",
        "  numerical_sentence = []\n",
        "  for token in sentence:\n",
        "    if token in vocab:\n",
        "      numerical_sentence.append(vocab[token])\n",
        "    else:\n",
        "      numerical_sentence.append(vocab['<unk>'])\n",
        "\n",
        "  return numerical_sentence\n",
        "\n"
      ],
      "metadata": {
        "id": "ornbVElyP7dL"
      },
      "execution_count": 44,
      "outputs": []
    },
    {
      "cell_type": "code",
      "source": [
        "input_numrical_sentences = []\n",
        "for sentence in input_sentences:\n",
        "  input_numrical_sentences.append(text_to_indices(word_tokenize(sentence.lower()),vocab))\n"
      ],
      "metadata": {
        "id": "0f7YW7efO5_f"
      },
      "execution_count": 45,
      "outputs": []
    },
    {
      "cell_type": "code",
      "source": [
        "len(input_numrical_sentences)"
      ],
      "metadata": {
        "colab": {
          "base_uri": "https://localhost:8080/"
        },
        "id": "eJ7kf3GrPWM0",
        "outputId": "1f1ee4ca-e423-476f-c6b5-f8c804d1aaa5"
      },
      "execution_count": 46,
      "outputs": [
        {
          "output_type": "execute_result",
          "data": {
            "text/plain": [
              "78"
            ]
          },
          "metadata": {},
          "execution_count": 46
        }
      ]
    },
    {
      "cell_type": "code",
      "source": [
        "training_sequences = []\n",
        "for sentence in input_numrical_sentences:\n",
        "  for i in range(1,len(sentence)):\n",
        "    training_sequences.append(sentence[:i+1])\n"
      ],
      "metadata": {
        "id": "LAAwTMNf8QLL"
      },
      "execution_count": 47,
      "outputs": []
    },
    {
      "cell_type": "code",
      "source": [
        "len(training_sequences)"
      ],
      "metadata": {
        "colab": {
          "base_uri": "https://localhost:8080/"
        },
        "id": "T9iZRtm698iV",
        "outputId": "7e339913-532f-46b1-fe86-e48ccbcfcf59"
      },
      "execution_count": 48,
      "outputs": [
        {
          "output_type": "execute_result",
          "data": {
            "text/plain": [
              "942"
            ]
          },
          "metadata": {},
          "execution_count": 48
        }
      ]
    },
    {
      "cell_type": "code",
      "source": [
        "training_sequences[:5]"
      ],
      "metadata": {
        "colab": {
          "base_uri": "https://localhost:8080/"
        },
        "id": "gLTFIXbY-AR5",
        "outputId": "ad263b89-e05a-49d1-e197-517e0cc6f5aa"
      },
      "execution_count": 49,
      "outputs": [
        {
          "output_type": "execute_result",
          "data": {
            "text/plain": [
              "[[1, 2], [1, 2, 3], [4, 5], [4, 5, 2], [4, 5, 2, 6]]"
            ]
          },
          "metadata": {},
          "execution_count": 49
        }
      ]
    },
    {
      "cell_type": "code",
      "source": [
        "len_list = []\n",
        "for sequence in training_sequences:\n",
        "  len_list.append(len(sequence))\n",
        "\n",
        "max(len_list)\n"
      ],
      "metadata": {
        "colab": {
          "base_uri": "https://localhost:8080/"
        },
        "id": "MaxB6MkEB8RG",
        "outputId": "1de431a2-2162-45ee-ab57-474c3431db32"
      },
      "execution_count": 50,
      "outputs": [
        {
          "output_type": "execute_result",
          "data": {
            "text/plain": [
              "62"
            ]
          },
          "metadata": {},
          "execution_count": 50
        }
      ]
    },
    {
      "cell_type": "code",
      "source": [
        "training_sequences[0]"
      ],
      "metadata": {
        "colab": {
          "base_uri": "https://localhost:8080/"
        },
        "id": "IEmtPFWZCRrp",
        "outputId": "b9cebd85-61dc-473f-ce39-1b09ca164dad"
      },
      "execution_count": 51,
      "outputs": [
        {
          "output_type": "execute_result",
          "data": {
            "text/plain": [
              "[1, 2]"
            ]
          },
          "metadata": {},
          "execution_count": 51
        }
      ]
    },
    {
      "cell_type": "code",
      "source": [
        "padded_tarining_sequences = []\n",
        "for sequence in training_sequences:\n",
        "  padded_tarining_sequences.append([0]*(max(len_list)-len(sequence))+sequence)\n",
        ""
      ],
      "metadata": {
        "id": "frEWwFk0C4MU"
      },
      "execution_count": 52,
      "outputs": []
    },
    {
      "cell_type": "code",
      "source": [
        "len(padded_tarining_sequences[0])"
      ],
      "metadata": {
        "colab": {
          "base_uri": "https://localhost:8080/"
        },
        "id": "mCwY55-lFRF8",
        "outputId": "9ef74eb0-50ed-4ec6-ee80-c68e9bb8c32c"
      },
      "execution_count": 53,
      "outputs": [
        {
          "output_type": "execute_result",
          "data": {
            "text/plain": [
              "62"
            ]
          },
          "metadata": {},
          "execution_count": 53
        }
      ]
    },
    {
      "cell_type": "code",
      "source": [
        "padded_tarining_sequences = torch.tensor(padded_tarining_sequences,dtype = torch.long)"
      ],
      "metadata": {
        "id": "fsPUloHJFTNr"
      },
      "execution_count": 54,
      "outputs": []
    },
    {
      "cell_type": "code",
      "source": [
        "padded_tarining_sequences.shape"
      ],
      "metadata": {
        "colab": {
          "base_uri": "https://localhost:8080/"
        },
        "id": "L4pSq9yYFmFa",
        "outputId": "01c0abe6-e118-4961-8cf7-6e870cfe5fcb"
      },
      "execution_count": 55,
      "outputs": [
        {
          "output_type": "execute_result",
          "data": {
            "text/plain": [
              "torch.Size([942, 62])"
            ]
          },
          "metadata": {},
          "execution_count": 55
        }
      ]
    },
    {
      "cell_type": "code",
      "source": [
        "x = padded_tarining_sequences[:,:-1]\n",
        "y = padded_tarining_sequences[:,-1]"
      ],
      "metadata": {
        "id": "AAu5zsvEFn72"
      },
      "execution_count": 56,
      "outputs": []
    },
    {
      "cell_type": "code",
      "source": [
        "x"
      ],
      "metadata": {
        "colab": {
          "base_uri": "https://localhost:8080/"
        },
        "id": "hbQFs_mTF2Mz",
        "outputId": "94f931cd-2cbd-4c6e-c226-91b1dbeffbd5"
      },
      "execution_count": 57,
      "outputs": [
        {
          "output_type": "execute_result",
          "data": {
            "text/plain": [
              "tensor([[  0,   0,   0,  ...,   0,   0,   1],\n",
              "        [  0,   0,   0,  ...,   0,   1,   2],\n",
              "        [  0,   0,   0,  ...,   0,   0,   4],\n",
              "        ...,\n",
              "        [  0,   0,   0,  ...,   0, 285, 176],\n",
              "        [  0,   0,   0,  ..., 285, 176, 286],\n",
              "        [  0,   0,   0,  ..., 176, 286, 287]])"
            ]
          },
          "metadata": {},
          "execution_count": 57
        }
      ]
    },
    {
      "cell_type": "code",
      "source": [
        "y"
      ],
      "metadata": {
        "colab": {
          "base_uri": "https://localhost:8080/"
        },
        "id": "6xsdCp2YF2rL",
        "outputId": "0ebc7df6-18aa-4f5b-9218-010a4c0cc25b"
      },
      "execution_count": 58,
      "outputs": [
        {
          "output_type": "execute_result",
          "data": {
            "text/plain": [
              "tensor([  2,   3,   5,   2,   6,   7,   8,   9,  10,  11,   3,  12,  13,  14,\n",
              "         15,   6,  16,  17,  18,  19,  20,  21,  22,  23,  24,  25,  18,  26,\n",
              "         27,  28,  29,  30,   5,   2,  31,  32,  27,   2,   6,  33,  31,  32,\n",
              "         27,   2,   6,   5,  34,  35,  30,  36,   2,  31,   6,   7,  37,  38,\n",
              "         39,  34,  40,  28,  41,  12,  42,  30,  15,   5,   2,  43,  27,   2,\n",
              "         11,   3,  33,  45,  46,  47,   2,  48,  49,  50,  52,  53,   8,   9,\n",
              "         10,  54,   8,   9,  10,   8,  57,  58,  60,  59,  64,  65,  66,   2,\n",
              "         67,  43,  68,  69,  70,  50,  71,  72,  58,  73,  74,  46,  17,  75,\n",
              "         27,  76,   3,  33,  78,  74,  73,  72,  58,  79,  80,  81,  17,  75,\n",
              "         27,  76,   3,  82,  83,  84,  30,  85,  86,  87,  17,  88,  89,  33,\n",
              "         45,  86,  90,  17,  91,  27,   2,  89,  33,  93,  94,  95,  80,  96,\n",
              "         78,  36,  97,  85,  22,  87,  17,  89,  22,  65,  98,  99,  73, 100,\n",
              "          2,  91,  30,  65,  86, 101,   2, 102, 103,  33,  76, 105, 106,  24,\n",
              "        107, 108, 109, 108, 110, 111,  27,   2,   6,  69,  70,  50, 112,  33,\n",
              "        113,  30,   5,   2, 110,  32,  27,  93,   2,  88,  95,  33,  78,  93,\n",
              "          2,  95, 115, 116, 117,  30,   5,   2, 118, 119, 109,   2, 120, 121,\n",
              "          2,  95,  33,  45,  86,  46, 124,   1,   2, 125, 102,  33,  45,  90,\n",
              "         17, 126, 127,  94, 128, 129, 130, 131,  89, 132,  22, 133,  17, 131,\n",
              "        134,  30,  86, 135,  76,   6,  85,  86, 136, 127,  17, 137, 138,  33,\n",
              "         78, 139,  30, 136, 140,  78,  65,  86, 141,   2,   3, 142,   2, 143,\n",
              "         33,  78,  22,  65, 141,   2,   3, 144,  30,  86, 145, 142,   2, 143,\n",
              "         78,  45,  86,  46, 146,  24, 107,  93,   2, 147, 148,  33,  78, 132,\n",
              "         22,  25,   2, 149,  22,  45,  46, 146,  24, 107,  93,   2, 147, 150,\n",
              "        142, 151, 152,  30, 135,  86,  23,  24, 153,   2, 154,  33, 155,  82,\n",
              "        156,  23,  24, 153,   2, 154,  30,  44,  45, 157,  22, 158,   2, 159,\n",
              "         78,  22,  23,  24, 160, 161,   2, 154, 162,  30,  44, 135,  63,  64,\n",
              "        142,   2,   3,  33,  30,  65,  44, 163,  22,  33,  65, 126, 164, 165,\n",
              "        166, 167, 168, 170, 171, 135,  44,  23,  24,  25,  94,  26,  33, 151,\n",
              "        172, 173, 174, 175,  33,  23,  24,  25,  93, 151,  18,  26, 176,  94,\n",
              "        175,  30,  68,   5,   2, 177,   8,  94, 175,  69,  70,  50, 178,  44,\n",
              "        179,   2, 180, 181,  27,  28,  41,  93, 165, 132,  33,  77,  78,   2,\n",
              "          3,  16,  17,  18,  19,  20,  30,   5,   2, 183,  27,  18,  19,  33,\n",
              "        184,  85,  86, 179, 176, 185, 186,  78, 187, 135,  86,  23,  24, 179,\n",
              "        188, 176, 189, 190, 174, 185, 190, 191,   2, 183, 192,   5, 193, 194,\n",
              "        127,   2, 195,  22,  25,   2, 149,  30,  36, 196,  22,  65, 141, 144,\n",
              "         22, 155,  82, 156,  23,  24, 197,   8,  17, 108,  24, 198,  30,  85,\n",
              "         86, 155,  82, 156, 199,   2,   6, 200, 201,   2, 149,  30,   4,   5,\n",
              "          2, 202, 203,  33,  90,  17,  34, 194, 202, 192, 127,   2, 195,  22,\n",
              "         23, 204,   2, 149,  30, 136, 205, 206, 207,  73,  86, 136,  81, 146,\n",
              "         24,  25,   2, 149, 176,   2, 175,  78,   4, 208,  86, 135,  33,  23,\n",
              "         24, 163, 164, 109, 209,  17, 126, 165, 166, 167, 168, 211, 212, 214,\n",
              "         65,  86, 215,   2, 131, 216, 176,   2, 175,  33, 217,   5, 218,  78,\n",
              "         36, 219, 220,  30,  22,  65, 100,   2, 216, 213, 151,  19,   5, 221,\n",
              "         30, 184,  22,  23, 222,  19, 176, 223, 186,  78,  22,  45,  46, 146,\n",
              "         24, 100,  93,   2, 147, 131,  95, 142,   2, 192,  27, 223, 186,  24,\n",
              "        224, 191, 225, 200, 223, 190,  22,  45,  23,  24, 226,   2,  19, 188,\n",
              "         30, 132,   2,   6,   5, 227,  73,  22,  23, 131, 164,  28,  41,  12,\n",
              "        174,  34, 228,  27,  28,  38,  15,  22,  45,  46, 146,  24, 100,   2,\n",
              "        131,  95, 213, 229,   0,  30, 232, 183,   5,  81, 233,  33,  27,   2,\n",
              "        235,   6,   7,  30,  65,  86, 236, 237, 142,  63,  27,  17, 238, 200,\n",
              "          2,  89,  33,  45,  23,  24, 239,  17, 105, 240, 233, 142, 151, 152,\n",
              "         73,  94, 241,  45, 163,  22,   8,  17, 242, 176, 242, 238, 243,  89,\n",
              "         86, 141,   2,   3, 140,  78,  65,  86, 244, 245, 147, 246, 247,  33,\n",
              "         78, 248, 249, 147, 246, 238, 142,   2, 238, 243, 105, 240,  30, 136,\n",
              "        205, 206, 207,  73,  86, 136,  81, 146,  24,  25,   2, 149, 176,   2,\n",
              "        175,  78,   4, 208,  86, 135,  33,  23,  24, 163, 164, 109, 209,  17,\n",
              "        126, 165, 166, 167, 250,  73, 252, 253, 170, 212,   5,   2, 254,  24,\n",
              "         90,   2, 251,  33,  80, 116, 256,  50,  23,  24, 179,   2, 180,   7,\n",
              "         27,  28,  41,  23,  24, 257,  93,   2,   6, 258,  30, 136, 259, 140,\n",
              "         30, 123,  65,  86, 179, 149,  27,   2, 260,  35,  33,  45,  90,  17,\n",
              "        177,  24, 179,   7,  27, 260,  35, 142, 151, 152, 132,  22, 179,   8,\n",
              "          2, 261, 108,  30,  23, 219, 262, 252, 253,   5,  17,  75,  27,  76,\n",
              "          3,  30,   4, 263, 264, 252, 253,  33,   5,  24, 265, 262, 252, 253,\n",
              "        266,  81, 267, 252, 268,  30,  36,  44, 269, 268,  22, 270, 271, 174,\n",
              "          8, 262, 272,  97, 273, 274,  30,  36,  85,  22,  80, 275,  24, 141,\n",
              "         76,   6, 248,   8, 276,  78,  86, 136, 277,  22,  45,  46, 278,  30,\n",
              "         68,   5,   4, 263, 264, 252, 253, 280,  95, 282,  95, 158, 283, 284,\n",
              "        176, 286, 287, 288])"
            ]
          },
          "metadata": {},
          "execution_count": 58
        }
      ]
    },
    {
      "cell_type": "code",
      "source": [
        "class CustomDataset(Dataset):\n",
        "\n",
        "  def __init__(self,x,y):\n",
        "    self.x = x\n",
        "    self.y = y\n",
        "\n",
        "\n",
        "  def __len__(self):\n",
        "    return self.x.shape[0]\n",
        "\n",
        "  def __getitem__(self,index):\n",
        "    return self.x[index],self.y[index]"
      ],
      "metadata": {
        "id": "RUs4ZzpJF3_2"
      },
      "execution_count": 59,
      "outputs": []
    },
    {
      "cell_type": "code",
      "source": [
        "dataset = CustomDataset(x,y)"
      ],
      "metadata": {
        "id": "e3rJLMrbGuKD"
      },
      "execution_count": 60,
      "outputs": []
    },
    {
      "cell_type": "code",
      "source": [
        "dataset[0]"
      ],
      "metadata": {
        "colab": {
          "base_uri": "https://localhost:8080/"
        },
        "id": "xH4MgFKNG0JH",
        "outputId": "9f1c364b-e832-4b87-bfc3-29af327b691e"
      },
      "execution_count": 61,
      "outputs": [
        {
          "output_type": "execute_result",
          "data": {
            "text/plain": [
              "(tensor([0, 0, 0, 0, 0, 0, 0, 0, 0, 0, 0, 0, 0, 0, 0, 0, 0, 0, 0, 0, 0, 0, 0, 0,\n",
              "         0, 0, 0, 0, 0, 0, 0, 0, 0, 0, 0, 0, 0, 0, 0, 0, 0, 0, 0, 0, 0, 0, 0, 0,\n",
              "         0, 0, 0, 0, 0, 0, 0, 0, 0, 0, 0, 0, 1]),\n",
              " tensor(2))"
            ]
          },
          "metadata": {},
          "execution_count": 61
        }
      ]
    },
    {
      "cell_type": "code",
      "source": [
        "dataloader = DataLoader(dataset,batch_size=32,shuffle=True)"
      ],
      "metadata": {
        "id": "IMpqjS3VG3cQ"
      },
      "execution_count": 62,
      "outputs": []
    },
    {
      "cell_type": "code",
      "source": [
        "for input, output in dataloader:\n",
        "  print(input,output)"
      ],
      "metadata": {
        "colab": {
          "base_uri": "https://localhost:8080/"
        },
        "id": "Dm3o3VpoHB_c",
        "outputId": "c4bf7240-336f-4feb-85df-1cb68837d518"
      },
      "execution_count": 63,
      "outputs": [
        {
          "output_type": "stream",
          "name": "stdout",
          "text": [
            "tensor([[  0,   0,   0,  ..., 151, 172, 173],\n",
            "        [  0,   0,   0,  ...,  22,  23,  24],\n",
            "        [  0,   0,   0,  ..., 223, 186,  78],\n",
            "        ...,\n",
            "        [  0,   0,   0,  ...,   4, 263, 264],\n",
            "        [  0,   0,   0,  ..., 114,  78,  93],\n",
            "        [  0,   0,   0,  ...,  44,  45, 157]]) tensor([174,  25,  22, 228, 206,   2,  22,   2,  33,  45,  59, 176, 260,  68,\n",
            "        278, 170, 264,  24, 140,  23,  39,  26, 144,  22,  33,   8, 282, 164,\n",
            "         78, 252,   2,  22])\n",
            "tensor([[  0,   0,   0,  ...,  30,  36,   2],\n",
            "        [  0,   0,   0,  ...,  86, 136, 205],\n",
            "        [  0,   0,   0,  ...,   2, 143,  78],\n",
            "        ...,\n",
            "        [  0,   0,   0,  ...,  23,  24,  25],\n",
            "        [  0,   0,   0,  ..., 176,   2, 175],\n",
            "        [  0,   0,   0,  ...,  24, 257,  93]]) tensor([ 31, 206,  45,  65, 252, 219,  24,  86,   5,  45, 156,  81,  76,  23,\n",
            "         23,  93,  17, 176,  75,   6,  27,   8,  65,  95, 142,   2, 142, 198,\n",
            "          8,  18,  78,   2])\n",
            "tensor([[  0,   0,   0,  ...,  89, 132,  22],\n",
            "        [  0,   0,   0,  ...,  24, 107, 108],\n",
            "        [  0,   0,   0,  ...,   7,  27, 260],\n",
            "        ...,\n",
            "        [  0,   0,   0,  ...,  23,  24, 153],\n",
            "        [  0,   0,   0,  ...,   5,   2, 183],\n",
            "        [  0,   0,   0,  ..., 108,  24, 198]]) tensor([133, 109,  35,  64,  23,  36, 253, 168,  23, 111,  69,   9,  93,  63,\n",
            "          2, 147,  95,  34, 151,  30,  32,  16, 179,  30,  65, 262, 190,  17,\n",
            "         45,   2,  27,  30])\n",
            "tensor([[  0,   0,   0,  ...,  94, 128, 129],\n",
            "        [  0,   0,   0,  ...,  94, 175,  30],\n",
            "        [ 76, 217,   5,  ...,   2,  19, 188],\n",
            "        ...,\n",
            "        [  0,   0,   0,  ..., 174,  34, 228],\n",
            "        [  0,   0,   0,  ...,  24,  25,  94],\n",
            "        [  0,   0,   0,  ...,  30,  22,  65]]) tensor([130,  68,  30, 261, 149, 127, 132,  27,   2,  23,  85,  85,  44, 213,\n",
            "        136,  24,   2,  95, 132, 233,  74,   5,  78,  30,   3,   7,  33,  90,\n",
            "         78,  27,  26, 100])\n",
            "tensor([[  0,   0,   0,  ...,   0,   0,  76],\n",
            "        [  0,   0,   0,  ..., 173, 174, 175],\n",
            "        [  0,   0,   0,  ...,   0,   2,  31],\n",
            "        ...,\n",
            "        [  0,   0,   0,  ...,  86, 136,  81],\n",
            "        [  0,   0,   0,  ...,  36,  85,  22],\n",
            "        [  0,   0,   0,  ...,   0,   0, 251]]) tensor([  5,  33,  32,  24,  35,  78,  30, 141, 141, 262,  91,  86,  86,  43,\n",
            "         75,  33,  24,  18, 238, 207, 181,  58, 147,  69, 195,   6, 131,  22,\n",
            "         33, 146,  80,  73])\n",
            "tensor([[  0,   0,   0,  ...,   4,   5,   2],\n",
            "        [  0,   0,   0,  ...,   5, 227,  73],\n",
            "        [  0,   0,   0,  ...,  23,  24, 163],\n",
            "        ...,\n",
            "        [  0,   0,   0,  ...,  24,  25,  18],\n",
            "        [  0,   0,   0,  ...,   0,  22,  65],\n",
            "        [  0,   0,   0,  ..., 191,   2, 183]]) tensor([202,  22, 164,   5,   3,  85,  73,   8, 124,  30,  70,  76,  27,   2,\n",
            "        174, 140, 212, 123, 103, 270,   0,   2, 203, 159,  69,  93, 163,  82,\n",
            "        175,  26,  66, 192])\n",
            "tensor([[  0,   0,   0,  ...,   2, 195,  22],\n",
            "        [  0,   0,   0,  ...,  30,  36, 196],\n",
            "        [  0,   0,   0,  ...,   2, 216, 213],\n",
            "        ...,\n",
            "        [  0,   0,   0,  ...,   2,  88,  95],\n",
            "        [  0,   0,   0,  ...,   0,  21,  65],\n",
            "        [  0,   0,   0,  ...,  18,  19,  33]]) tensor([ 25,  22, 151,   6, 238, 179,   2, 247,  34,  28, 105, 142, 200,  78,\n",
            "        129, 216, 167, 241,   2,   8, 191,  90, 158,   7, 108,  24,  24,  36,\n",
            "        183,  33,  86, 184])\n",
            "tensor([[  0,   0,   0,  ...,  24, 107,  93],\n",
            "        [  0,   0,   0,  ...,  93,  94,  95],\n",
            "        [  0,   0,   0,  ...,   2,   6,   5],\n",
            "        ...,\n",
            "        [  0,   0,   0,  ..., 252, 253, 266],\n",
            "        [  0,   0,   0,  ...,   0,  92,  78],\n",
            "        [  0,   0,   0,  ...,  26,  33, 151]]) tensor([  2,  80,  34, 132, 142,  90, 266, 100, 196,   3, 245,  86, 256,  50,\n",
            "          7, 125,  85, 252,  44,  25, 136, 283,  87,  27, 163,  11, 154, 136,\n",
            "        178,  81, 248, 172])\n",
            "tensor([[  0,   0,   0,  ..., 132,  22, 179],\n",
            "        [  0,   0,   0,  ...,   0,  92,  78],\n",
            "        [  0,   0,   0,  ...,   0,   0,  85],\n",
            "        ...,\n",
            "        [  0,   0,   0,  ..., 192,  27, 223],\n",
            "        [  0,   0,   0,  ...,  45,  23,  24],\n",
            "        [  0,   0,   0,  ...,  22,  45,  23]]) tensor([  8, 139,  86,  25, 164, 229, 176, 152,  94, 243, 154,  25,  30,  96,\n",
            "         20, 186,  73,  22, 193,  17,  86,  86,  23,  24,   3,  22,  16,  73,\n",
            "         45, 186, 239,  24])\n",
            "tensor([[  0,   0,   0,  ...,   2, 118, 119],\n",
            "        [  0,   0,   0,  ..., 270, 271, 174],\n",
            "        [  0,   0,   0,  ...,   6,   5,  34],\n",
            "        ...,\n",
            "        [  0,   0,   0,  ..., 220,  30,  22],\n",
            "        [  0,   0,   0,  ..., 238, 142,   2],\n",
            "        [  0,   0,   0,  ...,   5,   4, 263]]) tensor([109,   8,  35,  23,  50,   6,   2,   1,  22,  15,  86, 146,  84,   2,\n",
            "        237, 238, 233,   3, 110,  86,   6,  98,  24,  68,  15,  45,  33, 251,\n",
            "        108,  65, 238, 264])\n",
            "tensor([[  0,   0,   0,  ...,   0,   0,   4],\n",
            "        [  0,   0,   0,  ..., 253, 266,  81],\n",
            "        [  0,   0,   0,  ...,  76, 217,   5],\n",
            "        ...,\n",
            "        [  0,   0,   0,  ...,   0, 251,  73],\n",
            "        [  0,   0,   0,  ..., 135,  44,  23],\n",
            "        [  0,   0,   0,  ..., 179, 188, 176]]) tensor([  5, 267, 218, 157,  28,  46, 131, 152,  54, 177, 118,  30,  49,  90,\n",
            "        219, 240,  44,  30, 212,   2,  33,  78,  30, 242,  30,  22,  82,  22,\n",
            "        171, 252,  24, 189])\n",
            "tensor([[  0,   0,   0,  ...,  78,  86, 136],\n",
            "        [  0,   0,   0,  ..., 184,  22,  23],\n",
            "        [  0,   0,   0,  ...,  90,  17,  91],\n",
            "        ...,\n",
            "        [  0,   0,   0,  ...,  68,   5,   2],\n",
            "        [  0,   0,   0,  ..., 273, 274,  30],\n",
            "        [  0,   0,   0,  ..., 109, 209,  17]]) tensor([277, 222,  27, 250,  33, 135,   2, 102,   5,   8,  46,  63,  41,  18,\n",
            "         78, 252,  33, 143, 119, 175,   4,   5, 184,  31, 146, 151, 225, 106,\n",
            "        271, 177,  36, 126])\n",
            "tensor([[  0,   0,   0,  ...,  30,   4,   5],\n",
            "        [  0,   0,   0,  ..., 126, 164, 165],\n",
            "        [  0,   0,   0,  ..., 164,  28,  41],\n",
            "        ...,\n",
            "        [  0,   0,   0,  ..., 176, 242, 238],\n",
            "        [  0,   0,   0,  ...,  43,  68,  69],\n",
            "        [  0,   0,   0,  ...,  75,  27,  76]]) tensor([  2, 166,  12,  23,  33,   2, 215,  65,  22,   2, 173, 115,  36,   2,\n",
            "         81,  24, 186,  27, 160, 163, 242, 176,  46, 223,  86,  82, 194, 100,\n",
            "        284, 243,  70,   3])\n",
            "tensor([[  0,   0,   0,  ..., 136, 140,  78],\n",
            "        [  0,   0,   0,  ..., 253,   5,  17],\n",
            "        [  0,   0,   0,  ...,   2, 149,  30],\n",
            "        ...,\n",
            "        [  0,   0,   0,  ..., 189, 190, 174],\n",
            "        [  0,   0,   0,  ..., 194, 127,   2],\n",
            "        [  0,   0,   0,  ...,  96,  78,  36]]) tensor([ 65,  75,   4, 144,  46, 188,  15,  89,  78,   2,   2,  83,  30,  22,\n",
            "         30, 199,  67,   2,  95,  24,  65,  64, 166, 288,   2,  58,  30,   2,\n",
            "         85, 185, 195,  97])\n",
            "tensor([[  0,   0,   0,  ...,   0,  22,  23],\n",
            "        [  0,   0,   0,  ...,  21,  65,  86],\n",
            "        [  0,   0,   0,  ...,  92,  78, 139],\n",
            "        ...,\n",
            "        [  0,   0,   0,  ..., 146,  24, 100],\n",
            "        [  0,   0,   0,  ..., 151,  19,   5],\n",
            "        [  0,   0,   0,  ..., 197,   8,  17]]) tensor([ 24, 236,  30,  17,  76,  27,  73,  78,  30,  17,  93,  19,  86,   3,\n",
            "        244,  28, 141,  30, 252,  19,  89,  29,  37,  86,   3,  30,  33,  38,\n",
            "          2,   2, 221, 108])\n",
            "tensor([[  0,   0,   0,  ..., 108, 110, 111],\n",
            "        [  0,   0,   0,  ...,  93,   2, 147],\n",
            "        [  0,   0,   0,  ...,  30,  68,   5],\n",
            "        ...,\n",
            "        [  0,   0,   0,  ...,  30,  36,  44],\n",
            "        [  0,   0,   0,  ...,  41,  93, 165],\n",
            "        [  0,   0,   0,  ...,   0,   0,  21]]) tensor([ 27, 148,   2, 248,  24,  17,   7, 179, 175,  93, 204, 127,  44, 136,\n",
            "          5, 268, 116, 176, 126,  30,   2, 213,  27,  86, 211,   2, 135,   6,\n",
            "        167, 269, 132,  65])\n",
            "tensor([[  0,   0,   0,  ...,  44, 269, 268],\n",
            "        [  0,   0,   0,  ...,  86, 101,   2],\n",
            "        [  0,   0,   0,  ...,  22,  25,   2],\n",
            "        ...,\n",
            "        [  0,   0,   0,  ...,   0,   0, 279],\n",
            "        [  0,   0,   0,  ..., 190, 174, 185],\n",
            "        [  0,   0,   0,  ...,   2,  31,  32]]) tensor([ 22, 102, 149,   2, 168,  70,   2, 156, 158,  73,  33,  24,  24, 273,\n",
            "          9, 209,  57,  60,   3,  30,  94, 275,  72,  86,  30,  40, 156,  17,\n",
            "        147, 280, 190,  27])\n",
            "tensor([[  0,   0,   0,  ..., 163,  22,   8],\n",
            "        [  0,   0,   0,  ..., 156,  23,  24],\n",
            "        [  0,   0,   0,  ...,   2, 125, 102],\n",
            "        ...,\n",
            "        [  0,   0,   0,  ..., 141,   2,   3],\n",
            "        [  0,   0,   0,  ..., 105, 106,  24],\n",
            "        [  0,   0,   0,  ..., 202, 192, 127]]) tensor([ 17, 153,  33,  24,  89, 287, 154, 175,  24,  33, 176, 276,  19, 112,\n",
            "          2,  30,  95,  10, 131,  73,   2,  93,  73,  22,  33,  78,   5,  24,\n",
            "          5, 142, 107,   2])\n",
            "tensor([[  0,   0,   0,  ...,  46, 124,   1],\n",
            "        [  0,   0,   0,  ...,  22,  25,   2],\n",
            "        [  0,   0,   0,  ...,   0,   0,   4],\n",
            "        ...,\n",
            "        [  0,   0,   0,  ...,   4, 208,  86],\n",
            "        [  0,   0,   0,  ..., 179,   7,  27],\n",
            "        [  0,   0,   0,  ...,   2,   6,   5]]) tensor([  2, 149,  85,  38,  78,  52,   2, 155,   5,  71, 164, 121, 131,  30,\n",
            "         45, 226,  23, 134, 155,  34,  65, 202,  36,  24,  46, 190,   8,  22,\n",
            "         47, 135, 260, 227])\n",
            "tensor([[  0,   0,   0,  ...,   4,   5,   2],\n",
            "        [  0,   0,   0,  ...,   0,   0,  76],\n",
            "        [  0,   0,   0,  ..., 272,  97, 273],\n",
            "        ...,\n",
            "        [  0,   0,   0,  ..., 186,  78, 187],\n",
            "        [  0,   0,   0,  ...,   8, 262, 272],\n",
            "        [  0,   0,   0,  ..., 182,  77,  78]]) tensor([ 43, 217, 274,  23, 107, 179, 262,   2, 265, 113,  94,  86,  17,  86,\n",
            "         77,  53,  41,   2,  86, 191, 176,  30,  23, 117, 151,   2, 146,   2,\n",
            "        161, 135,  97,   2])\n",
            "tensor([[  0,   0,   0,  ...,  90,  17, 126],\n",
            "        [  0,   0,   0,  ..., 174,   8, 262],\n",
            "        [  0,   0,   0,  ...,   4,   5,   2],\n",
            "        ...,\n",
            "        [  0,   0,   0,  ...,  17,  18,  19],\n",
            "        [  0,   0,   0,  ..., 136, 277,  22],\n",
            "        [  0,   0,  76,  ...,  24, 226,   2]]) tensor([127, 272, 183, 149, 246,  13,  17,   2,   6,   2,  14,  22,  80,   2,\n",
            "         87,   2,  28, 151,  95,  22,  93, 205,  22,  22, 107, 105,  86,  94,\n",
            "         22,  20,  45,  19])\n",
            "tensor([[  0,   0,   0,  ...,   0,   0, 234],\n",
            "        [  0,   0,   0,  ...,   0,   0,  45],\n",
            "        [  0,   0,   0,  ..., 131, 164,  28],\n",
            "        ...,\n",
            "        [  0,   0,   0,  ...,  22,  65,  98],\n",
            "        [  0,   0,   0,  ...,  20,  21,  22],\n",
            "        [  0,   0,   0,  ..., 132,   2,   6]]) tensor([ 27,  72,  41, 185,   4,  81,  33,  33, 142,  95,  45,  24, 165, 180,\n",
            "         65,   2, 146, 138,  12, 176, 128,  27,   4, 253,   2,  17,   2,  65,\n",
            "        192,  99,  23,   5])\n",
            "tensor([[  0,   0,   0,  ...,  34, 228,  27],\n",
            "        [  0,   0,   0,  ...,  78,  45,  86],\n",
            "        [  0,   0,   0,  ...,   8,  17, 108],\n",
            "        ...,\n",
            "        [  0,   0,   0,  ...,  65,  44, 179],\n",
            "        [  0,   0,   0,  ...,  36, 219, 220],\n",
            "        [  0,   0,   0,  ...,  81, 267, 252]]) tensor([ 28,  46,  24,  89, 108,   2,  95, 180,  45, 166, 152,  36,  88, 249,\n",
            "          5, 141,   9,  23, 163,  23, 136,  86,  24,  18,   2,  80,   2, 126,\n",
            "         50,   2,  30, 268])\n",
            "tensor([[  0,   0,   0,  ..., 176, 189, 190],\n",
            "        [  0,   0,   0,  ..., 200, 201,   2],\n",
            "        [  0,   0,   0,  ..., 200,   2,  89],\n",
            "        ...,\n",
            "        [  0,   0,   0,  ..., 107,  93,   2],\n",
            "        [  0,   0,   0,  ...,  28,  41,  12],\n",
            "        [  0,   0,   0,  ..., 156, 199,   2]]) tensor([174, 149,  33,  30,  30,  79,  27,  78, 209,   2,  45, 100,  45, 142,\n",
            "        188, 216, 220,  17, 147,  42, 146, 197, 165,  44,  24, 175,  78, 194,\n",
            "        214, 147, 174,   6])\n",
            "tensor([[  0,   0,   0,  ...,   3,  30,   4],\n",
            "        [  0,   0,   0,  ...,   2, 195,  22],\n",
            "        [  0,   0,   0,  ..., 176,  94, 175],\n",
            "        ...,\n",
            "        [  0,   0,   0,  ...,  85,  86,  87],\n",
            "        [  0,   0,   0,  ...,   2,   6,   7],\n",
            "        [  0,   0,   0,  ...,  22,  65,  66]]) tensor([263,  23,  30, 105,  89,  86,  25, 208,  30,  25,  18,  22,  32,  27,\n",
            "         82, 109,  76,   2,   5, 143,  86,  30, 200,  78, 149, 120, 142,  17,\n",
            "         45,  17,   8,   2])\n",
            "tensor([[  0,   0,   0,  ...,  93, 165, 132],\n",
            "        [  0,   0,   0,  ...,   0,  77,  78],\n",
            "        [  0,   0,   0,  ...,   0,   4,   5],\n",
            "        ...,\n",
            "        [  0,   0,   0,  ...,  86,  23,  24],\n",
            "        [  0,   0,   0,  ..., 223, 186,  24],\n",
            "        [  0,   0,   0,  ...,  53,   8,   9]]) tensor([ 33,  74,   2, 110,  91,  50,  93, 137,  76,  12,  89,   2, 179, 258,\n",
            "        253,  33, 254,  33,  90,  30, 135, 167,  46,  17, 192, 127,  88,  21,\n",
            "        223, 153, 224,  10])\n",
            "tensor([[  0,   0,   0,  ..., 161,   2, 154],\n",
            "        [  0,   0,   0,  ...,   0,  92,  93],\n",
            "        [  0,   0,   0,  ..., 183,  27,  18],\n",
            "        ...,\n",
            "        [  0,   0,   0,  ..., 251,  73, 252],\n",
            "        [  0,   0,   0,  ..., 237, 142,  63],\n",
            "        [  0,   0,   0,  ..., 207,  73,  86]]) tensor([162,  94,  19,  93, 140, 136,   3,  78, 183,  46, 155, 179,   2,  50,\n",
            "        145,  23, 208, 132,  17, 126,  31, 175,  78,  33, 109,   6, 207,   6,\n",
            "          6, 253,  27, 136])\n",
            "tensor([[  0,   0,   0,  ..., 146,  24,  25],\n",
            "        [  0,   0,   0,  ...,  43,  27,   2],\n",
            "        [  0,   0,   0,  ..., 135,  63,  64],\n",
            "        ...,\n",
            "        [  0,   0,   0,  ...,  32,  27,   2],\n",
            "        [  0,   0,   0,  ..., 239,  17, 105],\n",
            "        [  0,   0,   0,  ...,  79,  80,  81]]) tensor([  2,  11, 142, 235,  65,   3, 253, 141,   4, 131,   5,  27, 257,  22,\n",
            "          7,  86, 135,  33, 179, 200, 205, 187,   2,  23, 201,  27, 232,   2,\n",
            "         19,   6, 240,  17])\n",
            "tensor([[  0,   0,   0,  ...,  82, 156,  23],\n",
            "        [  0,   0,   0,  ...,  45,  86,  90],\n",
            "        [  0,   0,   0,  ...,  28,  41,  93],\n",
            "        ...,\n",
            "        [  0,   0,   0,  ..., 209,  17, 126],\n",
            "        [  0,   0,   0,  ...,   2,  95, 115],\n",
            "        [  0,   0,   0,  ...,   0,   0, 285]]) tensor([ 24,  17, 165, 286,  24,   5,  94,  33,  33, 246, 170, 149,  17,   5,\n",
            "         78, 131,   2, 150,  44,  58,  41,   2, 223, 263,  33,  33, 151, 136,\n",
            "         45, 165, 116, 176])\n",
            "tensor([[  0,   0,   0,   0,   0,   0,   0,   0,   0,   0,   0,   0,   0,   0,\n",
            "           0,   0,   0,   0,   0,   0,   0,   0,   0,   0,   0,   0,   0,   0,\n",
            "           0,   0,   0,   0,   0,   0,   0,   0,   0,   0,   0,   0,   0,   0,\n",
            "           0,   0,   0,   0,   0,   0,   0,   0,   0,   0,   0,   0,   0,   0,\n",
            "         185, 191,   2, 183, 192],\n",
            "        [  0,   0,   0,   0,   0,   0,   0,   0,   0,   0,   0,   0,   0,   0,\n",
            "           0,   0,   0,   0,   0,   0,   0,   0,   0,   0,   0,   0,   0,   0,\n",
            "           0,   0,   0,   0,   0,   0,   0,   0,   0,   0,   0,   0,   0,   0,\n",
            "           0,   0,   0,   0,   0,   0,   0,   0,   0,   0,   0,  22,  23,  24,\n",
            "         179,   2, 180,   7,  27],\n",
            "        [  0,   0,   0,   0,   0,   0,   0,   0,   0,   0,   0,   0,   0,   0,\n",
            "           0,   0,   0,   0,   0,   0,   0,   0,   0,   0,   0,   0,   0,   0,\n",
            "           0,   0,   0,   0,   0,   0,   0,   0,   0,   0,   0,   0,   0,   0,\n",
            "           0,   0,   0,   0,   0,   0,   0,   0,   0,   0,   0,   0,   0,   0,\n",
            "          44,  45,  46,  47,   2],\n",
            "        [  0,   0,   0,   0,   0,   0,   0,   0,   0,   0,   0,   0,   0,   0,\n",
            "           0,   0,   0,   0,   0,   0,   0,   0,   0,   0,   0,   0,   0,   0,\n",
            "           0,   0,   0,   0,   0,   0,   0,   0,   0,   0,   0,   0,   0,   0,\n",
            "           0,   0,   0,   0,   0,   0,   0,   0,   0,   0,   0,   0,   0,   0,\n",
            "           0,   0,  55,   8,   9],\n",
            "        [  0,   0,   0,   0,   0,   0,   0,   0,   0,   0,   0,   0,   0,   0,\n",
            "           0,   0,   0,   0,   0,   0,   0,   0,   0,   0,   0,   0,   0,   0,\n",
            "           0,   0,   0,   0,   0,   0,   0,   0,   0,   0,   0,   0,   0,   0,\n",
            "           0,   0,   0,   0,   0,   0,   0,   0,   0,   0,   0,   0,   0,   0,\n",
            "           0,   0,   0,   0,  21],\n",
            "        [  0,   0,   0,   0,   0,   0,   0,   0,   0,   0,   0,   0,   0,   0,\n",
            "           0,   0,   0,   0,   0,   0,   0,   0,   0,   0,   0,   0,   0,   0,\n",
            "           0,   0,   0,   0,   0,   0,   0,   0,   0,   0,   0,   0,   0,   0,\n",
            "           0,   0,   0,   0,   0,   0,   0,   0,  45,  72,  58,  73,  74,  46,\n",
            "          17,  75,  27,  76,   3],\n",
            "        [  0,   0,   0,   0,   0,   0,   0,   0,   0,   0,   0,   0,   0,   0,\n",
            "           0,   0,   0,   0,   0,   0,   0,   0,   0,   0,   0,   0,   0,   0,\n",
            "           0,   0,   0,  76,   5,  24, 265, 262, 252, 253, 266,  81, 267, 252,\n",
            "         268,  30,  36,  44, 269, 268,  22, 270, 271, 174,   8, 262, 272,  97,\n",
            "         273, 274,  30,  36,  85],\n",
            "        [  0,   0,   0,   0,   0,   0,   0,   0,   0,   0,   0,   0,   0,   0,\n",
            "           0,   0,   0,   0,   0,   0,   0,   0,   0,   0,   0,   0,   0,   0,\n",
            "           0,   0,   0,   0,   0,   0,   0,   0,   0,   0,   0,   0,   0,   0,\n",
            "           0,   0,   0,   0,   0,   0,   0,   0,   0,   0,   0, 139,  78,  22,\n",
            "          65, 141,   2,   3, 144],\n",
            "        [  0,   0,   0,   0,   0,   0,   0,   0,   0,   0,   0,   0,   0,   0,\n",
            "           0,   0,   0,   0,   0,   0,   0,   0,   0,   0,   0,   0,   0,   0,\n",
            "           0,   0,   0,   0,   0,   0,   0,   0,   0,   0,   0,   0,   0,   0,\n",
            "           0,   0,   0,   0,   0,   0,   0,   0,   0,   0,   0,   0,   0,   0,\n",
            "           0,   0,   0,   0,  21],\n",
            "        [  0,   0,   0,   0,   0,   0,   0,   0,   0,   0,   0,   0,   0,   0,\n",
            "           0,   0,   0,   0,   0,   0,   0,   0,   0,   0,   0,   0,   0,   0,\n",
            "           0,   0,   0,   0,   0,   0,   0,   0,   0,   0,   0,   0,   0,   0,\n",
            "           0,   0,   0,   0,   0,   0,   0,   0,   0,   0,  45,  72,  58,  73,\n",
            "          74,  46,  17,  75,  27],\n",
            "        [  0,   0,   0,   0,   0,   0,   0,   0,   0,   0,   0,   0,   0,   0,\n",
            "           0,   0,   0,   0,   0,   0,   0,   0,   0,   0,   0,   0,   0,   0,\n",
            "           0,   0,   0,   0,   0,   0,   0,   0,   0,   0,   0,   0,   0,   0,\n",
            "           0,   0,   0,   0,   0,   0,   0,   0,   0,   0, 185, 191,   2, 183,\n",
            "         192,   5, 193, 194, 127],\n",
            "        [  0,   0,   0,   0,   0,   0,   0,   0,   0,   0,   0,   0,   0,   0,\n",
            "           0,   0,   0,   0,   0,   0,   0,   0,   0,   0,   0,   0,   0,   0,\n",
            "           0,   0,   0,   0,   0,   0,   0,   0,   0,   0,   0,   0,   0,   0,\n",
            "           0,   0,   0,   0,   0,   0,   0,   0,   0,   0,   0,  86, 136, 205,\n",
            "         206, 207,  73,  86, 136],\n",
            "        [  0,   0,   0,   0,   0,   0,   0,   0,   0,   0,   0,   0,   0,   0,\n",
            "           0,   0,   0,   0,   0,   0,   0,   0,   0,   0,   0,   0,   0,   0,\n",
            "           0,   0,   0,   0,   0,   0,   0,   0,   0,   0,   0,   0,   0,   0,\n",
            "           0,   0,   0,   0,   0,   0,   0,   0,   0,   0,   0,   0,   0,   0,\n",
            "           0,   0,   0,  86, 136],\n",
            "        [  0,   0,   0,   0,   0,   0,   0,   0,   0,   0,   0,   0,   0,   0,\n",
            "           0,   0,   0,   0,   0,   0,   0,   0,   0,   0,   0,   0,   0,   0,\n",
            "           0,   0,   0,   0,   0,   0,   0,   0,   0,   0,   0,   0,   0,   0,\n",
            "           0,   0,   0,   0,   0,   0,   0,   0,   0,   0,   0,   0,   0,   0,\n",
            "           0,   0,  21,  65,  86]]) tensor([  5,  28,  48,  10, 135,  33,  22,  30,  65,  76,   2,  81, 259, 101])\n"
          ]
        }
      ]
    },
    {
      "cell_type": "code",
      "source": [
        "  class LSTMModel(nn.Module):\n",
        "    def __init__(self,vocab_size):\n",
        "      super().__init__()\n",
        "      self.embedding = nn.Embedding(vocab_size,100)\n",
        "      self.lstm = nn.LSTM(100,150,batch_first=True)\n",
        "      self.fc = nn.Linear(150,vocab_size)\n",
        "\n",
        "    def forward(self,x):\n",
        "      embedded = self.embedding(x)\n",
        "      intermediate_hidden_state,(final_hidden_state,final_cell_state)=self.lstm(embedded)\n",
        "      output = self.fc(final_hidden_state.squeeze(0))\n",
        "\n",
        "      return output"
      ],
      "metadata": {
        "id": "zAm3BrRSHI_J"
      },
      "execution_count": 94,
      "outputs": []
    },
    {
      "cell_type": "code",
      "source": [
        "x = nn.Embedding(289,100)\n",
        "y = nn.LSTM(100,150,batch_first=True)\n"
      ],
      "metadata": {
        "id": "u0x0PmkDYLyQ"
      },
      "execution_count": 95,
      "outputs": []
    },
    {
      "cell_type": "code",
      "source": [
        "a = dataset[0][0].unsqueeze(0)"
      ],
      "metadata": {
        "id": "l-8E6HrVYdi9"
      },
      "execution_count": 96,
      "outputs": []
    },
    {
      "cell_type": "code",
      "source": [
        "b = x(a)"
      ],
      "metadata": {
        "id": "M5FrFilnYm_A"
      },
      "execution_count": 97,
      "outputs": []
    },
    {
      "cell_type": "code",
      "source": [
        "c ,d =y(b)"
      ],
      "metadata": {
        "id": "obolElY8Y0iM"
      },
      "execution_count": 98,
      "outputs": []
    },
    {
      "cell_type": "code",
      "source": [
        "c.shape #set of all intermediate hidden states"
      ],
      "metadata": {
        "colab": {
          "base_uri": "https://localhost:8080/"
        },
        "id": "znY6P_PdY8qh",
        "outputId": "7fdfb698-bd48-48a2-e361-871f4a12e275"
      },
      "execution_count": 99,
      "outputs": [
        {
          "output_type": "execute_result",
          "data": {
            "text/plain": [
              "torch.Size([1, 61, 150])"
            ]
          },
          "metadata": {},
          "execution_count": 99
        }
      ]
    },
    {
      "cell_type": "code",
      "source": [
        "e, f = d"
      ],
      "metadata": {
        "id": "BbT_g8bkZKUu"
      },
      "execution_count": 100,
      "outputs": []
    },
    {
      "cell_type": "code",
      "source": [
        "e.shape"
      ],
      "metadata": {
        "colab": {
          "base_uri": "https://localhost:8080/"
        },
        "id": "tNUUcoTvZgGs",
        "outputId": "d29d4233-9600-46cd-dc8a-3bbf58f9e73a"
      },
      "execution_count": 101,
      "outputs": [
        {
          "output_type": "execute_result",
          "data": {
            "text/plain": [
              "torch.Size([1, 1, 150])"
            ]
          },
          "metadata": {},
          "execution_count": 101
        }
      ]
    },
    {
      "cell_type": "code",
      "source": [
        "f.shape"
      ],
      "metadata": {
        "colab": {
          "base_uri": "https://localhost:8080/"
        },
        "id": "y6REljJMZiLs",
        "outputId": "cfed0cd0-11aa-40ec-cdef-14b06e06a967"
      },
      "execution_count": 102,
      "outputs": [
        {
          "output_type": "execute_result",
          "data": {
            "text/plain": [
              "torch.Size([1, 1, 150])"
            ]
          },
          "metadata": {},
          "execution_count": 102
        }
      ]
    },
    {
      "cell_type": "code",
      "source": [
        "z = nn.Linear(150,289)"
      ],
      "metadata": {
        "id": "57Mw4ecNZndp"
      },
      "execution_count": 103,
      "outputs": []
    },
    {
      "cell_type": "code",
      "source": [
        "z(f.squeeze(0)).shape"
      ],
      "metadata": {
        "colab": {
          "base_uri": "https://localhost:8080/"
        },
        "id": "iPUSSksFZx22",
        "outputId": "cd96448b-21f6-4e35-e997-911eff49b6fa"
      },
      "execution_count": 104,
      "outputs": [
        {
          "output_type": "execute_result",
          "data": {
            "text/plain": [
              "torch.Size([1, 289])"
            ]
          },
          "metadata": {},
          "execution_count": 104
        }
      ]
    },
    {
      "cell_type": "code",
      "source": [
        "model = LSTMModel(len(vocab))"
      ],
      "metadata": {
        "id": "nlkk6w6pZ2Za"
      },
      "execution_count": 105,
      "outputs": []
    },
    {
      "cell_type": "code",
      "source": [
        "device= torch.device(\"cuda\" if torch.cuda.is_available() else \"cpu\")"
      ],
      "metadata": {
        "id": "JTMLNe-Ma55c"
      },
      "execution_count": 106,
      "outputs": []
    },
    {
      "cell_type": "code",
      "source": [
        "model.to(device)"
      ],
      "metadata": {
        "colab": {
          "base_uri": "https://localhost:8080/"
        },
        "id": "nqSeF8rqbKZr",
        "outputId": "9e1c1bfc-fe17-409c-c29c-8586b6000d13"
      },
      "execution_count": 107,
      "outputs": [
        {
          "output_type": "execute_result",
          "data": {
            "text/plain": [
              "LSTMModel(\n",
              "  (embedding): Embedding(289, 100)\n",
              "  (lstm): LSTM(100, 150, batch_first=True)\n",
              "  (fc): Linear(in_features=150, out_features=289, bias=True)\n",
              ")"
            ]
          },
          "metadata": {},
          "execution_count": 107
        }
      ]
    },
    {
      "cell_type": "code",
      "source": [
        "epochs = 50\n",
        "learning_rate = 0.001\n",
        "criterion = nn.CrossEntropyLoss()\n",
        "optimizer = torch.optim.Adam(model.parameters(),lr=learning_rate)"
      ],
      "metadata": {
        "id": "0rdpa2-YbPjy"
      },
      "execution_count": 108,
      "outputs": []
    },
    {
      "cell_type": "code",
      "source": [
        "#training loop\n",
        "for epoch in range(epochs):\n",
        "  total_loss = 0\n",
        "  for batch_x,batch_y in dataloader:\n",
        "    batch_x,batch_y =batch_x.to(device), batch_y.to(device)\n",
        "\n",
        "    optimizer.zero_grad()\n",
        "\n",
        "    output = model(batch_x)\n",
        "\n",
        "    loss = criterion(output, batch_y)\n",
        "\n",
        "    loss.backward()\n",
        "\n",
        "    optimizer.step()\n",
        "\n",
        "    total_loss+=loss.item()\n",
        "  print(f\"Epoch: {epoch+1},loss:{total_loss:.4f}\")"
      ],
      "metadata": {
        "colab": {
          "base_uri": "https://localhost:8080/"
        },
        "id": "NUrPsoV8bjWz",
        "outputId": "afbe28a4-fa55-4ec4-eff2-d3b335ac6bb2"
      },
      "execution_count": 109,
      "outputs": [
        {
          "output_type": "stream",
          "name": "stdout",
          "text": [
            "Epoch: 1,loss:165.6534\n",
            "Epoch: 2,loss:145.8427\n",
            "Epoch: 3,loss:134.1171\n",
            "Epoch: 4,loss:121.7248\n",
            "Epoch: 5,loss:109.1317\n",
            "Epoch: 6,loss:97.4898\n",
            "Epoch: 7,loss:87.1761\n",
            "Epoch: 8,loss:77.5032\n",
            "Epoch: 9,loss:68.2854\n",
            "Epoch: 10,loss:60.4501\n",
            "Epoch: 11,loss:53.1784\n",
            "Epoch: 12,loss:46.5024\n",
            "Epoch: 13,loss:40.6929\n",
            "Epoch: 14,loss:35.8724\n",
            "Epoch: 15,loss:31.0778\n",
            "Epoch: 16,loss:27.4202\n",
            "Epoch: 17,loss:24.4376\n",
            "Epoch: 18,loss:21.7098\n",
            "Epoch: 19,loss:19.4118\n",
            "Epoch: 20,loss:17.3118\n",
            "Epoch: 21,loss:15.3201\n",
            "Epoch: 22,loss:13.9379\n",
            "Epoch: 23,loss:12.7019\n",
            "Epoch: 24,loss:11.7668\n",
            "Epoch: 25,loss:10.8319\n",
            "Epoch: 26,loss:9.9440\n",
            "Epoch: 27,loss:9.2920\n",
            "Epoch: 28,loss:8.8350\n",
            "Epoch: 29,loss:8.3441\n",
            "Epoch: 30,loss:7.8248\n",
            "Epoch: 31,loss:7.5162\n",
            "Epoch: 32,loss:7.1366\n",
            "Epoch: 33,loss:6.7617\n",
            "Epoch: 34,loss:6.5594\n",
            "Epoch: 35,loss:6.3391\n",
            "Epoch: 36,loss:5.9353\n",
            "Epoch: 37,loss:5.7234\n",
            "Epoch: 38,loss:5.5930\n",
            "Epoch: 39,loss:5.4312\n",
            "Epoch: 40,loss:5.2449\n",
            "Epoch: 41,loss:5.1246\n",
            "Epoch: 42,loss:5.0372\n",
            "Epoch: 43,loss:4.9627\n",
            "Epoch: 44,loss:4.8309\n",
            "Epoch: 45,loss:4.6953\n",
            "Epoch: 46,loss:4.7714\n",
            "Epoch: 47,loss:4.4650\n",
            "Epoch: 48,loss:4.5175\n",
            "Epoch: 49,loss:4.4051\n",
            "Epoch: 50,loss:4.3409\n"
          ]
        }
      ]
    },
    {
      "cell_type": "code",
      "source": [
        "#prediction\n",
        "def prediction(model,vocab,text):\n",
        "  #tokenize\n",
        "  tokenized_text = word_tokenize(text.lower())\n",
        "\n",
        "  #text -> numerical indices\n",
        "\n",
        "  #padding\n",
        "\n",
        "  #send to model\n",
        "\n",
        "  #predicted index\n",
        "\n",
        "  #merge with text"
      ],
      "metadata": {
        "id": "OLDvNOSwc59v"
      },
      "execution_count": null,
      "outputs": []
    }
  ]
}